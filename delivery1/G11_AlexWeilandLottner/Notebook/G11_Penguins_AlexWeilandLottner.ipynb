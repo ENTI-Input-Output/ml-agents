{
 "cells": [
  {
   "cell_type": "markdown",
   "metadata": {},
   "source": [
    "# ML-Agents: Penguins\n",
    "## Baby penguin feeding, killer whale avoiding penguins"
   ]
  },
  {
   "cell_type": "markdown",
   "metadata": {},
   "source": [
    "### 1. Introduction\n",
    "This notebook's goal, initially, is to have a penguin be able to pick up fish and feed its baby.\n",
    "Then, it will need to learn to avoid killer whales (a.k.a. Orca) which hurt the penguin."
   ]
  },
  {
   "attachments": {},
   "cell_type": "markdown",
   "metadata": {},
   "source": [
    "### 2. Case analysis\n",
    "\n",
    "![Penguin Area](Images/penguinArea.jpg)\n",
    "\n",
    "#### Agent Actions\n",
    "Penguins' movement is described within vectorAction[2], where:\n",
    "\n",
    "    vectorAction[0] can be either 0 or 1, describing either staying still or moving forward.\n",
    "    vectorAction[1] can be 0, 1 or 2, and is used for describing not turning, turning left or turning right, in that order.\n",
    "    \n",
    "Intermediate values are disallowed.\n",
    "Each movement adds a (-1/5000) reward. This is in order to reward penguins that use fewer movements to achieve the same result.\n",
    "   \n",
    "#### Observations\n",
    "\n",
    "Penguins collect the following observations of their state:\n",
    "- Whether it is full or not (1xfloat)\n",
    "- Distance to the baby penguin (1xfloat)\n",
    "- Direction to the baby pengiin (3xfloat)\n",
    "- Direction the penguin is facing (3xfloat)\n",
    "=> In total we get 8 tracked values.\n",
    "\n",
    "#### Perception\n",
    "\n",
    "![Penguin Sphere Cast sensor](Images/sphereCast_Penguin.png)\n",
    "\n",
    "Penguins have a 3D Ray Perception Sensor, that senses objects with the following tags:\n",
    "- Baby\n",
    "- Fish\n",
    "- _Untagged_\n",
    "\n",
    "This sensor works with Sphere Casts, which are raycasts with checking spheres at the end.\n",
    "\n",
    "#### Rewards\n",
    "Besides the already mentioned negative reward for penguin movement, the following also exist:\n",
    "- Eating a fish (+1)\n",
    "- Regurgitating a fish (+1), in order to feed its baby\n",
    "\n",
    "### 3. Performance analysis\n",
    "\n",
    "![Original case performance charts](Images/beforePerformance.png)\n",
    "\n",
    "### 4. New case proposal\n",
    "\n",
    "![Penguin Area with Orca](Images/penguinAreaWithOrca.jpg)\n",
    "\n",
    "In addition to fulfilling its existing tasks, the penguin needs to learn to avoid killer whales.\n",
    "They're their natural predator. Thus, we expect the behaviour to be of avoidance whenever near an Orca.\n",
    "\n",
    "#### Perception\n",
    "In order for the penguin to know when an Orca is nearby we need to add the Orca tag to the existing ones in the 3D Ray Perception Sensor.\n",
    "\n",
    "#### Rewards\n",
    "We add a new reward:\n",
    "- Touching an Orca (-3)\n",
    "\n",
    "The penguin is obviously punished for touching Orcas.\n",
    "\n",
    "### 5. New case performance\n",
    "\n",
    "### 6. Team\n",
    "\n",
    "| ![Alex](Images/alex.jpg) |\n",
    "|--------------------------|\n",
    "|**Àlex Weiland Lottner**|\n",
    "|alexweilandlottner@enti.cat|"
   ]
  }
 ],
 "metadata": {
  "kernelspec": {
   "display_name": "Python 3",
   "language": "python",
   "name": "python3"
  },
  "language_info": {
   "codemirror_mode": {
    "name": "ipython",
    "version": 3
   },
   "file_extension": ".py",
   "mimetype": "text/x-python",
   "name": "python",
   "nbconvert_exporter": "python",
   "pygments_lexer": "ipython3",
   "version": "3.7.6"
  }
 },
 "nbformat": 4,
 "nbformat_minor": 4
}

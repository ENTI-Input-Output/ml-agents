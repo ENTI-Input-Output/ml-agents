{
 "cells": [
  {
   "cell_type": "markdown",
   "metadata": {},
   "source": [
    "# G06 - Wall Jump"
   ]
  },
  {
   "cell_type": "markdown",
   "metadata": {},
   "source": [
    "## 1. Introduction\n",
    "\n",
    "This notebook has all the information related to <b>G06</b>'s delivery 1. Here you can find an analysis of the <b>Wall Jump</b> example of Unity's ml-agents, as well as a new case proposal of the same example, with all information needed to reproduce it by yourself. <br>\n",
    "<br>\n",
    "This notebook will also work as a kind of a post mortem for our new proposal's implementation."
   ]
  },
  {
   "cell_type": "markdown",
   "metadata": {},
   "source": [
    "## 2. Case analysis\n",
    "\n",
    "#### Rewards\n",
    "In this example there are 3 rewards given to the agent depending on its performance solving the problem:\n",
    "- <span style=\"color:green\">+1.0, if the agent reaches the goal</span> - Given to the agent in the OnTriggerStay() (using the collider of the goal)\n",
    "- <span style=\"color:red\">-0.0005, for every step the agent does</span> - Given to the agent in MoveAgent(). This reward motivates the agent to find the optimal path to the goal (using as less movements as possible)\n",
    "- <span style=\"color:red\">-1.0, if the agent or the cube falls off the platform</span> - Given to the agent in AgentAction()\n",
    "![MoveAgent](g06-img/Rewards.png)\n",
    "\n",
    "#### Actions\n",
    "The agent can take 4 different main actions, each of them with multiple options:\n",
    "- Forward movement\n",
    "    - Forward\n",
    "<img style=\"float: right;\" src=\"g06-img/MoveAgent.png\">\n",
    "    - Backwards \n",
    "    - No action\n",
    "- Side movement\n",
    "    - Left\n",
    "    - Right\n",
    "    - No action\n",
    "- Rotation\n",
    "    - Left\n",
    "    - Right\n",
    "    - No action\n",
    "- Jump\n",
    "    - Jump\n",
    "    - No action"
   ]
  },
  {
   "cell_type": "markdown",
   "metadata": {},
   "source": [
    "## 3. Performance analysis"
   ]
  },
  {
   "cell_type": "markdown",
   "metadata": {},
   "source": [
    "## 4. New case proposal"
   ]
  },
  {
   "cell_type": "markdown",
   "metadata": {},
   "source": [
    "## 5. Team"
   ]
  }
 ],
 "metadata": {
  "kernelspec": {
   "display_name": "Python 3",
   "language": "python",
   "name": "python3"
  },
  "language_info": {
   "codemirror_mode": {
    "name": "ipython",
    "version": 3
   },
   "file_extension": ".py",
   "mimetype": "text/x-python",
   "name": "python",
   "nbconvert_exporter": "python",
   "pygments_lexer": "ipython3",
   "version": "3.7.6"
  }
 },
 "nbformat": 4,
 "nbformat_minor": 2
}

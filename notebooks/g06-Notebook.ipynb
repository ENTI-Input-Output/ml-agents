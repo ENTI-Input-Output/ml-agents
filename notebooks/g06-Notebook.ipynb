{
 "cells": [
  {
   "cell_type": "markdown",
   "metadata": {},
   "source": [
    "# G06 - Wall Jump"
   ]
  },
  {
   "cell_type": "markdown",
   "metadata": {},
   "source": [
    "## 1. Introduction\n",
    "\n"
   ]
  },
  {
   "cell_type": "markdown",
   "metadata": {},
   "source": [
    "## 2. Case analysis\n",
    "\n",
    "In this example there are 3 rewards given to the agent depending on its performance solving the problem:\n",
    "- <span style=\"color:green\">+1.0 if the agent reaches the goal</span> - Given to the agent in the OnTriggerStay() (using the collider of the goal)\n",
    "- <span style=\"color:red\">-0.0005 for every step the agent does</span> - Given to the agent in MoveAgent(). This reward motivates the agent to find the optimal path to the goal (using as less movements as possible)\n",
    "- <span style=\"color:red\">-1.0 if the agent or the cube falls off the platform</span> - Given to the agent in AgentAction()\n",
    "\n",
    "fdgasgsg"
   ]
  },
  {
   "cell_type": "markdown",
   "metadata": {},
   "source": [
    "## 3. Performance analysis"
   ]
  },
  {
   "cell_type": "markdown",
   "metadata": {},
   "source": [
    "## 4. New case proposal"
   ]
  },
  {
   "cell_type": "code",
   "execution_count": null,
   "metadata": {},
   "outputs": [],
   "source": []
  }
 ],
 "metadata": {
  "kernelspec": {
   "display_name": "Python 3",
   "language": "python",
   "name": "python3"
  },
  "language_info": {
   "codemirror_mode": {
    "name": "ipython",
    "version": 3
   },
   "file_extension": ".py",
   "mimetype": "text/x-python",
   "name": "python",
   "nbconvert_exporter": "python",
   "pygments_lexer": "ipython3",
   "version": "3.7.6"
  }
 },
 "nbformat": 4,
 "nbformat_minor": 2
}

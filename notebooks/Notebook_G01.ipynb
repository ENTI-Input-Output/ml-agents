{
 "cells": [
  {
   "cell_type": "markdown",
   "metadata": {},
   "source": [
    "# Input Output. Delivery One\n",
    "\n",
    "<img src=\"../docs/images/image-banner.png\" align=\"middle\" width=\"3000\"/>"
   ]
  },
  {
   "cell_type": "markdown",
   "metadata": {},
   "source": [
    "## G01: Victor Armisen and David Recuenco"
   ]
  },
  {
   "cell_type": "markdown",
   "metadata": {},
   "source": [
    "## 1. Introduction\n",
    "The purpose of this notebook is explaining our work with the environment \"Tennis\" from the ml-agents examples.\n",
    "This example, as its name says, simulates a tennis match between two agents which follows the real tennis rules.\n",
    "What we wanted to do with the example was using only an agent and:\n",
    "* Make the agent play paddle alone and following the game's rules: the ball has to touch the ground once before being hit and if the ball touches the ground two times in a row without touching the front wall, the point is lost.\n",
    "* Make the agent do keepy-ups not letting the ball touching the ground. \n",
    "* The same keepy-ups as above but with wind, making it harder for the agent to keep the ball in the air."
   ]
  },
  {
   "cell_type": "markdown",
   "metadata": {},
   "source": [
    "### The team\n",
    "Name | Enti email | Picture\n",
    "--- | --- | ---\n",
    "Victor Armisen | victorarmisencapo@enti.cat | placeholder picture\n",
    "David Recuenco | davidrecuencooliver@enti.cat | placeholder picture"
   ]
  },
  {
   "cell_type": "markdown",
   "metadata": {},
   "source": [
    "## 2. Case Analysis\n",
    "The example is managed by 3 scripts:"
   ]
  },
  {
   "cell_type": "markdown",
   "metadata": {},
   "source": [
    "* **TennisArea**\n",
    "\n",
    "Manages the ball's physics and has the function to reset the match, spawning the ball in a random side of the court."
   ]
  },
  {
   "cell_type": "code",
   "execution_count": null,
   "metadata": {},
   "outputs": [],
   "source": [
    "    public void MatchReset()\n",
    "    {\n",
    "        var ballOut = Random.Range(6f, 8f);\n",
    "        var flip = Random.Range(0, 2);\n",
    "        if (flip == 0)\n",
    "        {\n",
    "            ball.transform.position = new Vector3(-ballOut, 6f, 0f) + transform.position;\n",
    "        }\n",
    "        else\n",
    "        {\n",
    "            ball.transform.position = new Vector3(ballOut, 6f, 0f) + transform.position;\n",
    "        }\n",
    "        m_BallRb.velocity = new Vector3(0f, 0f, 0f);\n",
    "        ball.transform.localScale = new Vector3(.5f, .5f, .5f);\n",
    "        ball.GetComponent<HitWall>().lastAgentHit = -1;\n",
    "    }"
   ]
  },
  {
   "cell_type": "markdown",
   "metadata": {},
   "source": [
    "* **TennisAgent**\n",
    "\n",
    "Obviously, manages the agent which in this case is the racket. The script has the heuristic, movement and reset.\n"
    "In the agent we slightly change its properties in the case of Keep Up to simulate the touches.\n"
    "In all cases, we use the inputs of the vectorActions to change the speeds and rotations of the agent."  
   ]
  },
  {
   "cell_type": "code",
   "execution_count": null,
   "metadata": {},
   "outputs": [],
   "source": [
    "// Add some code here"
   ]
  },
  {
   "cell_type": "markdown",
   "metadata": {},
   "source": [
    "* **HitWall**\n",
    "\n",
    "We check the collisions of the ball with the objects in the environment and give the corresponding rewards according to these events."
   ]
  },
  {
   "cell_type": "code",
   "execution_count": null,
   "metadata": {},
   "outputs": [],
   "source": [
    "// Add some code here"
   ]
  },
  {
   "cell_type": "markdown",
   "metadata": {},
   "source": [
    "### Rewards:\n",
    "We give positive rewards in relation if the ball touches it simply touches the racket. According to distances and time.\n" 
    "We give negative rewards if the ball hits the ground and if it hits invisible walls that represent that it goes off the court."
   ]
  },
  {
   "cell_type": "code",
   "execution_count": null,
   "metadata": {},
   "outputs": [],
   "source": [
    "// add some code here"
   ]
  },
  {
   "cell_type": "markdown",
   "metadata": {},
   "source": [
    "### States:\n",
    "We use States to check more specific events and thus achieve better results.\n"
    "For example, to check if the ball bounces on the ground, if it hits the wall on the ground ..."
   ]
  },
  {
   "cell_type": "code",
   "execution_count": null,
   "metadata": {},
   "outputs": [],
   "source": [
    "// add some code here"
   ]
  },
  {
   "cell_type": "markdown",
   "metadata": {},
   "source": [
    "### Training:\n",
    "We do learning checks around a 100K Steps. From then on, we consider that, if we see correct results, the model is worth it.\n"
    "We check these results through the variables used and the graphs that we obtain locally with Tensor."
   ]
  },
  {
   "cell_type": "markdown",
   "metadata": {},
   "source": [
    "## 3. Performance Analysis\n",
    "Explicación\n",
    "\n",
    "Add pictures here"
   ]
  },
  {
   "cell_type": "markdown",
   "metadata": {},
   "source": [
    "## 4. New case proposal\n",
    "// Explicar el cambio a un solo agente, poner foto inspector\n",
    "\n",
    "As mentioned in the introduction, we have three different cases to train the agent with."
   ]
  },
  {
   "cell_type": "code",
   "execution_count": null,
   "metadata": {},
   "outputs": [],
   "source": [
    "// Codigo del nuevo spawn de la bola"
   ]
  },
  {
   "cell_type": "markdown",
   "metadata": {},
   "source": [
    "### Paddle:\n",
    "dsasdadadada\n",
    "Fotos de como queda ahora"
   ]
  },
  {
   "cell_type": "code",
   "execution_count": null,
   "metadata": {},
   "outputs": [],
   "source": [
    "// New code Paddle --> Rewards etc"
   ]
  },
  {
   "cell_type": "markdown",
   "metadata": {},
   "source": [
    "### Keepy-ups\n",
    "dsdadadadasa"
   ]
  },
  {
   "cell_type": "code",
   "execution_count": null,
   "metadata": {},
   "outputs": [],
   "source": [
    "// Code Keepy-ups"
   ]
  },
  {
   "cell_type": "markdown",
   "metadata": {},
   "source": [
    "### Keepy-ups with wind\n",
    "sadsadasdsdadd"
   ]
  },
  {
   "cell_type": "code",
   "execution_count": null,
   "metadata": {},
   "outputs": [],
   "source": [
    "// code del wind I guess"
   ]
  }
 ],
 "metadata": {
  "anaconda-cloud": {},
  "kernelspec": {
   "display_name": "Python 3",
   "language": "python",
   "name": "python3"
  },
  "language_info": {
   "codemirror_mode": {
    "name": "ipython",
    "version": 3
   },
   "file_extension": ".py",
   "mimetype": "text/x-python",
   "name": "python",
   "nbconvert_exporter": "python",
   "pygments_lexer": "ipython3",
   "version": "3.7.6"
  }
 },
 "nbformat": 4,
 "nbformat_minor": 1
}

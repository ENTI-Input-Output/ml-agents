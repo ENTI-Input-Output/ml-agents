{
 "cells": [
  {
   "cell_type": "markdown",
   "metadata": {},
   "source": [
    "## 1. Introducción\n",
    "\n",
    "El objetivo de este notebook es analizar el comportamiento del agente en la escena de \"Pyramids\" del ml_agents, dónde el agente debe buscar un botón por el escenario y, posteriormente, encontrar una pirámide concreta con una pieza encima de ella para recogerla. En nuestro caso vamos a añadir la feature de una vez recogida, llevarla hasta el botón.\n",
    "\n",
    "#### Equipo\n",
    "\n",
    "<img src=\"images/samuel.jpg\"/>\n",
    "Samuel Balcells - samuelbalcellsvaldivia@enti.cat\n",
    "\n",
    "<img src=\"images/sergi.png\"/>\n",
    "Sergi González - sergigonzalezppons@enti.cat"
   ]
  },
  {
   "cell_type": "markdown",
   "metadata": {},
   "source": [
    "## 2. Análisis del caso\n",
    "\n",
    "En este caso el agente debe buscar por el escenario, el cual está lleno de seis pirámides, un botón que al ser activado hace spawnear una pirámide extra en el mundo. Cada pirámide está formada por cubos no unidos, apilados. Una de las cuales cuenta con un cubo encima. El agente deberá empujarlos cubos que forman la pirámide que lo sostiene, para así tirarlo al suelo y cogerlo. Cuando el agente toque el cubo en cuestión, se acabará la simulación y recibirá las recompensas.\n",
    "\n",
    "La recompensa del agente va decreciendo en función de los pasos que de antes de completar el desafío. Y estas recompensas se le son dadas cuando consigue llegar al \"Goal\".\n",
    "\n",
    "Para hacer esto el switch o interruptor es el que maneja los estados del juego, pasando de inactivo a activo en función de cuando el agente colisione con él. En ese momento le da la orden al escenario de empezar a crear la pirámide extra, con el \"Goal\" encima, dando así paso a la segunda parte de la simulación. Las posiciones de estas pirámides vienen determinadas por zonas gestionadas por el switch, dónde este decide en qué punto concreto de cada zona va a aparecer una pirámide (aleatoriamente), para posteriormente mandarle toda esta información al escenario. Para que este haga spawn de las pirámides con las funciones \"CreateObject\" y \"PlaceObject\"."
   ]
  },
  {
   "cell_type": "markdown",
   "metadata": {},
   "source": [
    "## 3. Análisis de rendimiento\n",
    "\n",
    "You do a performance analysis of the training using TensorBoard, exploring what parameters are most critical to a) make it work, b) produce smooth results, and c) train fast. In your analysis you should include a combination of parameters that does not work, and some that do work. You should also show some understanding of the role of the parameters, and try to explain why something works or doesn't."
   ]
  },
  {
   "cell_type": "markdown",
   "metadata": {},
   "source": [
    "## 4. Propuesta de nuevo caso\n",
    "\n",
    "Taking as basis the example analysed, you propose, implement and test a different task for the same training procedure, or a very similar one. You explain how to train the new use case, and how the setup, rewards, states or training changed, compared to the example."
   ]
  },
  {
   "cell_type": "markdown",
   "metadata": {},
   "source": [
    "## 5. Team\n",
    "\n",
    "| <center> Samuel Balcells | <center> Sergi González |\n",
    "|-----------------|----------------|\n",
    "| <img src=\"images/samuel.jpg\"/> | <img src=\"images/sergi.png\"/> |\n",
    "| <center> samuelbalcellsvaldivia@enti.cat | <center> sergigonzalezppons@enti.cat |"
   ]
  }
 ],
 "metadata": {
  "kernelspec": {
   "display_name": "Python 3",
   "language": "python",
   "name": "python3"
  },
  "language_info": {
   "codemirror_mode": {
    "name": "ipython",
    "version": 3
   },
   "file_extension": ".py",
   "mimetype": "text/x-python",
   "name": "python",
   "nbconvert_exporter": "python",
   "pygments_lexer": "ipython3",
   "version": "3.7.4"
  }
 },
 "nbformat": 4,
 "nbformat_minor": 2
}
